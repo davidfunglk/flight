{
 "cells": [
  {
   "cell_type": "code",
   "execution_count": 1,
   "metadata": {
    "collapsed": false,
    "deletable": true,
    "editable": true
   },
   "outputs": [],
   "source": [
    "f = open('/media/sf_Windows/station_id.txt', 'r')"
   ]
  },
  {
   "cell_type": "code",
   "execution_count": 2,
   "metadata": {
    "collapsed": false,
    "deletable": true,
    "editable": true
   },
   "outputs": [],
   "source": [
    "CD = []\n",
    "STATION = []\n",
    "ICAO = []\n",
    "IATA = []\n",
    "SYNOP = []"
   ]
  },
  {
   "cell_type": "code",
   "execution_count": 3,
   "metadata": {
    "collapsed": true,
    "deletable": true,
    "editable": true
   },
   "outputs": [],
   "source": [
    "line = f.readline().strip()\n",
    "country = str.split(line)[0]\n",
    "line = f.readline().strip()"
   ]
  },
  {
   "cell_type": "code",
   "execution_count": 4,
   "metadata": {
    "collapsed": false,
    "deletable": true,
    "editable": true
   },
   "outputs": [],
   "source": [
    "count = 1\n",
    "while True:\n",
    "    line = f.readline().strip()\n",
    "    CD.append(line[0:2])\n",
    "    STATION.append(line[3:20].strip())\n",
    "    ICAO.append(line[20:24])\n",
    "    IATA.append(line[26:29])\n",
    "    SYNOP.append(line[32:37])\n",
    "    if line == '':\n",
    "        # either end of file or just a blank line.....\n",
    "        # we'll assume EOF, because we don't have a choice with the while loop!\n",
    "        line = f.readline().strip()\n",
    "        country = str.split(line)[0]\n",
    "        line = f.readline().strip()\n",
    "        count += 1\n",
    "        if count == 51:\n",
    "            break\n",
    "    "
   ]
  },
  {
   "cell_type": "code",
   "execution_count": 35,
   "metadata": {
    "collapsed": false,
    "deletable": true,
    "editable": true
   },
   "outputs": [],
   "source": [
    "import pandas as pd\n",
    "id_data = pd.DataFrame({'CD':CD,'STATION':STATION,'ICAO':ICAO,'IATA':IATA, 'ID': SYNOP})"
   ]
  },
  {
   "cell_type": "code",
   "execution_count": 36,
   "metadata": {
    "collapsed": false,
    "deletable": true,
    "editable": true
   },
   "outputs": [],
   "source": [
    "airportHubs = ['ATL','LAX','ORD','DFW','JFK','DEN','SFO','CLT','LAS',\n",
    "               'PHX','MIA','IAH','SEA','MCO','EWR','MSP','BOS','DTW',\n",
    "               'PHL','LGA','FLL','BWI','DCA','MDW','SLC','IAD','SAN',\n",
    "               'HNL','TPA','PDX','DAL','STL','HOU','AUS','BNA','OAK',\n",
    "               'MSY','MCI','RDU','SNA','SJC','SMF','SJU','RSW','SAT',\n",
    "               'CLE','PIT','IND','CMH','MKE','OGG','PBI','CVG','BDL',\n",
    "               'JAX','ANC','BUF','ABQ','ONT','OMA']"
   ]
  },
  {
   "cell_type": "code",
   "execution_count": 37,
   "metadata": {
    "collapsed": false,
    "deletable": true,
    "editable": true
   },
   "outputs": [],
   "source": [
    "ids = id_data[id_data.IATA.isin(airportHubs)].ID"
   ]
  },
  {
   "cell_type": "code",
   "execution_count": 38,
   "metadata": {
    "collapsed": false
   },
   "outputs": [
    {
     "data": {
      "text/plain": [
       "3092    72243\n",
       "Name: ID, dtype: object"
      ]
     },
     "execution_count": 38,
     "metadata": {},
     "output_type": "execute_result"
    }
   ],
   "source": [
    "ids[ids == '72243']"
   ]
  },
  {
   "cell_type": "code",
   "execution_count": 39,
   "metadata": {
    "collapsed": false
   },
   "outputs": [
    {
     "name": "stderr",
     "output_type": "stream",
     "text": [
      "/usr/local/lib/python2.7/dist-packages/ipykernel/__main__.py:2: SettingWithCopyWarning: \n",
      "A value is trying to be set on a copy of a slice from a DataFrame\n",
      "\n",
      "See the caveats in the documentation: http://pandas.pydata.org/pandas-docs/stable/indexing.html#indexing-view-versus-copy\n",
      "  from ipykernel import kernelapp as app\n",
      "/usr/local/lib/python2.7/dist-packages/ipykernel/__main__.py:3: SettingWithCopyWarning: \n",
      "A value is trying to be set on a copy of a slice from a DataFrame\n",
      "\n",
      "See the caveats in the documentation: http://pandas.pydata.org/pandas-docs/stable/indexing.html#indexing-view-versus-copy\n",
      "  app.launch_new_instance()\n",
      "/usr/local/lib/python2.7/dist-packages/ipykernel/__main__.py:4: SettingWithCopyWarning: \n",
      "A value is trying to be set on a copy of a slice from a DataFrame\n",
      "\n",
      "See the caveats in the documentation: http://pandas.pydata.org/pandas-docs/stable/indexing.html#indexing-view-versus-copy\n",
      "/usr/local/lib/python2.7/dist-packages/ipykernel/__main__.py:5: SettingWithCopyWarning: \n",
      "A value is trying to be set on a copy of a slice from a DataFrame\n",
      "\n",
      "See the caveats in the documentation: http://pandas.pydata.org/pandas-docs/stable/indexing.html#indexing-view-versus-copy\n",
      "/usr/local/lib/python2.7/dist-packages/ipykernel/__main__.py:6: SettingWithCopyWarning: \n",
      "A value is trying to be set on a copy of a slice from a DataFrame\n",
      "\n",
      "See the caveats in the documentation: http://pandas.pydata.org/pandas-docs/stable/indexing.html#indexing-view-versus-copy\n",
      "/usr/local/lib/python2.7/dist-packages/ipykernel/__main__.py:7: SettingWithCopyWarning: \n",
      "A value is trying to be set on a copy of a slice from a DataFrame\n",
      "\n",
      "See the caveats in the documentation: http://pandas.pydata.org/pandas-docs/stable/indexing.html#indexing-view-versus-copy\n",
      "/usr/local/lib/python2.7/dist-packages/ipykernel/__main__.py:8: SettingWithCopyWarning: \n",
      "A value is trying to be set on a copy of a slice from a DataFrame\n",
      "\n",
      "See the caveats in the documentation: http://pandas.pydata.org/pandas-docs/stable/indexing.html#indexing-view-versus-copy\n",
      "/usr/local/lib/python2.7/dist-packages/ipykernel/__main__.py:9: SettingWithCopyWarning: \n",
      "A value is trying to be set on a copy of a slice from a DataFrame\n",
      "\n",
      "See the caveats in the documentation: http://pandas.pydata.org/pandas-docs/stable/indexing.html#indexing-view-versus-copy\n"
     ]
    }
   ],
   "source": [
    "ids[460] = '747040'\n",
    "ids[487] = '724839'\n",
    "ids[498] = '724945'\n",
    "ids[504] = '722977'\n",
    "ids[686] = '747830'\n",
    "ids[688] = '722108'\n",
    "ids[722] = '722020'\n",
    "ids[3089] = '722440'\n",
    "ids[3556] = '726400'"
   ]
  },
  {
   "cell_type": "code",
   "execution_count": 40,
   "metadata": {
    "collapsed": false
   },
   "outputs": [
    {
     "data": {
      "text/html": [
       "<div>\n",
       "<table border=\"1\" class=\"dataframe\">\n",
       "  <thead>\n",
       "    <tr style=\"text-align: right;\">\n",
       "      <th></th>\n",
       "      <th>CD</th>\n",
       "      <th>IATA</th>\n",
       "      <th>ICAO</th>\n",
       "      <th>ID</th>\n",
       "      <th>STATION</th>\n",
       "    </tr>\n",
       "  </thead>\n",
       "  <tbody>\n",
       "    <tr>\n",
       "      <th>498</th>\n",
       "      <td>CA</td>\n",
       "      <td>SJC</td>\n",
       "      <td>KSJC</td>\n",
       "      <td>74505</td>\n",
       "      <td>SAN JOSE</td>\n",
       "    </tr>\n",
       "    <tr>\n",
       "      <th>504</th>\n",
       "      <td>CA</td>\n",
       "      <td>SNA</td>\n",
       "      <td>KSNA</td>\n",
       "      <td></td>\n",
       "      <td>COSTA MESA</td>\n",
       "    </tr>\n",
       "    <tr>\n",
       "      <th>686</th>\n",
       "      <td>FL</td>\n",
       "      <td>FLL</td>\n",
       "      <td>KFLL</td>\n",
       "      <td></td>\n",
       "      <td>FT LAUDERD/HOLLY</td>\n",
       "    </tr>\n",
       "    <tr>\n",
       "      <th>688</th>\n",
       "      <td>FL</td>\n",
       "      <td>RSW</td>\n",
       "      <td>KRSW</td>\n",
       "      <td></td>\n",
       "      <td>FORT MYERS</td>\n",
       "    </tr>\n",
       "    <tr>\n",
       "      <th>722</th>\n",
       "      <td>FL</td>\n",
       "      <td>MIA</td>\n",
       "      <td>KMIA</td>\n",
       "      <td></td>\n",
       "      <td>MIAMI</td>\n",
       "    </tr>\n",
       "    <tr>\n",
       "      <th>3089</th>\n",
       "      <td>TX</td>\n",
       "      <td>HOU</td>\n",
       "      <td>KHOU</td>\n",
       "      <td></td>\n",
       "      <td>HOUSTON/HOBBY</td>\n",
       "    </tr>\n",
       "    <tr>\n",
       "      <th>3556</th>\n",
       "      <td>WI</td>\n",
       "      <td>MKE</td>\n",
       "      <td>KMKE</td>\n",
       "      <td></td>\n",
       "      <td>MILWAUKEE</td>\n",
       "    </tr>\n",
       "  </tbody>\n",
       "</table>\n",
       "</div>"
      ],
      "text/plain": [
       "      CD IATA  ICAO     ID           STATION\n",
       "498   CA  SJC  KSJC  74505          SAN JOSE\n",
       "504   CA  SNA  KSNA               COSTA MESA\n",
       "686   FL  FLL  KFLL         FT LAUDERD/HOLLY\n",
       "688   FL  RSW  KRSW               FORT MYERS\n",
       "722   FL  MIA  KMIA                    MIAMI\n",
       "3089  TX  HOU  KHOU            HOUSTON/HOBBY\n",
       "3556  WI  MKE  KMKE                MILWAUKEE"
      ]
     },
     "execution_count": 40,
     "metadata": {},
     "output_type": "execute_result"
    }
   ],
   "source": [
    "id_data.loc[[498,504,686,688,722,3089,3556]]"
   ]
  },
  {
   "cell_type": "code",
   "execution_count": 41,
   "metadata": {
    "collapsed": false,
    "deletable": true,
    "editable": true
   },
   "outputs": [],
   "source": [
    "newIds = []\n",
    "for i in ids:\n",
    "    if len(i) == 5:\n",
    "        newIds.append(i + '0')\n",
    "    else:\n",
    "        newIds.append(i)"
   ]
  },
  {
   "cell_type": "code",
   "execution_count": null,
   "metadata": {
    "collapsed": false
   },
   "outputs": [],
   "source": []
  },
  {
   "cell_type": "code",
   "execution_count": 42,
   "metadata": {
    "collapsed": false,
    "deletable": true,
    "editable": true
   },
   "outputs": [
    {
     "data": {
      "text/plain": [
       "'230-****** WARNING ** WARNING ** WARNING ** WARNING ** WARNING ******\\n ** This is a United States Department of Commerce computer     **\\n ** system, which may be accessed and used only for             **\\n ** official Government business by authorized personnel.       **\\n ** Unauthorized access or use of this computer system may      **\\n ** subject violators to criminal, civil, and/or administrative **\\n ** action.  All information on this computer system may be     **\\n ** intercepted, recorded, read, copied, and disclosed by and   **\\n ** to authorized personnel for official purposes, including    **\\n ** criminal investigations.  Access or use of this computer    **\\n ** system by any person, whether authorized or unauthorized,   **\\n ** constitutes consent to these terms.                         **\\n ****** WARNING ** WARNING ** WARNING ** WARNING ** WARNING ******\\n230 Anonymous access granted, restrictions apply'"
      ]
     },
     "execution_count": 42,
     "metadata": {},
     "output_type": "execute_result"
    }
   ],
   "source": [
    "from ftplib import FTP\n",
    "import zlib\n",
    "ftp = FTP('ftp.ncdc.noaa.gov')\n",
    "ftp.login()   "
   ]
  },
  {
   "cell_type": "code",
   "execution_count": 43,
   "metadata": {
    "collapsed": false,
    "deletable": true,
    "editable": true
   },
   "outputs": [],
   "source": [
    "def retrieveFileName(year):\n",
    "    ftp.cwd(\"/pub/data/noaa/isd-lite/\"+str(year))\n",
    "    subfiles = ftp.nlst() \n",
    "    dirIDS = [str.split(file,'-')[0] for file in subfiles]\n",
    "    desireFiles = [subfiles[dirIDS.index(val)] for val in newIds]\n",
    "    return(desireFiles)"
   ]
  },
  {
   "cell_type": "code",
   "execution_count": 44,
   "metadata": {
    "collapsed": false,
    "deletable": true,
    "editable": true
   },
   "outputs": [],
   "source": [
    "def get_gz(ftp, ftp_filename, local_filename):\n",
    "\n",
    "    decomp = zlib.decompressobj(16+zlib.MAX_WBITS)\n",
    "\n",
    "    unzip = open (local_filename, 'wb')\n",
    "\n",
    "    def next_packet(data):\n",
    "        unzip.write(decomp.decompress(data))\n",
    "\n",
    "    ftp.retrbinary('RETR ' + ftp_filename, next_packet)\n",
    "\n",
    "    decompressed = decomp.flush()\n",
    "    unzip.write(decompressed)\n",
    "    unzip.close()\n"
   ]
  },
  {
   "cell_type": "code",
   "execution_count": 45,
   "metadata": {
    "collapsed": false,
    "deletable": true,
    "editable": true
   },
   "outputs": [],
   "source": [
    "fList = retrieveFileName(2012)"
   ]
  },
  {
   "cell_type": "code",
   "execution_count": 48,
   "metadata": {
    "collapsed": false,
    "deletable": true,
    "editable": true
   },
   "outputs": [],
   "source": [
    "for i in range(len(fList)):\n",
    "    get_gz(ftp, fList[i], 'weatherData/'+id_data[id_data.IATA.isin(airportHubs)].IATA.iloc[i]+'2012')"
   ]
  }
 ],
 "metadata": {
  "kernelspec": {
   "display_name": "Python 2",
   "language": "python",
   "name": "python2"
  },
  "language_info": {
   "codemirror_mode": {
    "name": "ipython",
    "version": 2
   },
   "file_extension": ".py",
   "mimetype": "text/x-python",
   "name": "python",
   "nbconvert_exporter": "python",
   "pygments_lexer": "ipython2",
   "version": "2.7.12"
  }
 },
 "nbformat": 4,
 "nbformat_minor": 2
}
