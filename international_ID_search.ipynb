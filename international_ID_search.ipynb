{
 "cells": [
  {
   "cell_type": "code",
   "execution_count": 11,
   "metadata": {
    "collapsed": false
   },
   "outputs": [],
   "source": [
    "f = open('/media/sf_Windows/station_id.txt', 'r')"
   ]
  },
  {
   "cell_type": "code",
   "execution_count": 12,
   "metadata": {
    "collapsed": false
   },
   "outputs": [],
   "source": [
    "CD = []\n",
    "STATION = []\n",
    "ICAO = []\n",
    "IATA = []\n",
    "SYNOP = []"
   ]
  },
  {
   "cell_type": "code",
   "execution_count": 13,
   "metadata": {
    "collapsed": true
   },
   "outputs": [],
   "source": [
    "line = f.readline().strip()\n",
    "country = str.split(line)[0]\n",
    "line = f.readline().strip()"
   ]
  },
  {
   "cell_type": "code",
   "execution_count": 14,
   "metadata": {
    "collapsed": false
   },
   "outputs": [],
   "source": [
    "count = 1\n",
    "while True:\n",
    "    line = f.readline().strip()\n",
    "    CD.append(line[0:2])\n",
    "    STATION.append(line[3:20].strip())\n",
    "    ICAO.append(line[20:24])\n",
    "    IATA.append(line[26:29])\n",
    "    SYNOP.append(line[32:37])\n",
    "    if line == '':\n",
    "        # either end of file or just a blank line.....\n",
    "        # we'll assume EOF, because we don't have a choice with the while loop!\n",
    "        line = f.readline().strip()\n",
    "        country = str.split(line)[0]\n",
    "        line = f.readline().strip()\n",
    "        count += 1\n",
    "        if count == 51:\n",
    "            break\n",
    "    "
   ]
  },
  {
   "cell_type": "code",
   "execution_count": 15,
   "metadata": {
    "collapsed": false
   },
   "outputs": [],
   "source": [
    "import pandas as pd\n",
    "id_data = pd.DataFrame({'CD':CD,'STATION':STATION,'ICAO':ICAO,'IATA':IATA, 'ID': SYNOP})"
   ]
  },
  {
   "cell_type": "code",
   "execution_count": 16,
   "metadata": {
    "collapsed": false
   },
   "outputs": [],
   "source": [
    "airportHubs = ['ATL','ORD','DFW','DEN','LAX','IAH','PHX','DTW','SFO','CLT','MSP','LAS','MCO','EWR','JFK','SLC','LGA','BOS','SEA','BWI']"
   ]
  },
  {
   "cell_type": "code",
   "execution_count": 39,
   "metadata": {
    "collapsed": false
   },
   "outputs": [],
   "source": [
    "ids = id_data[id_data.IATA.isin(airportHubs)].ID"
   ]
  },
  {
   "cell_type": "code",
   "execution_count": 51,
   "metadata": {
    "collapsed": false
   },
   "outputs": [],
   "source": [
    "ids = [i+'0' for i in ids]"
   ]
  },
  {
   "cell_type": "code",
   "execution_count": 55,
   "metadata": {
    "collapsed": false
   },
   "outputs": [
    {
     "data": {
      "text/plain": [
       "'230-****** WARNING ** WARNING ** WARNING ** WARNING ** WARNING ******\\n ** This is a United States Department of Commerce computer     **\\n ** system, which may be accessed and used only for             **\\n ** official Government business by authorized personnel.       **\\n ** Unauthorized access or use of this computer system may      **\\n ** subject violators to criminal, civil, and/or administrative **\\n ** action.  All information on this computer system may be     **\\n ** intercepted, recorded, read, copied, and disclosed by and   **\\n ** to authorized personnel for official purposes, including    **\\n ** criminal investigations.  Access or use of this computer    **\\n ** system by any person, whether authorized or unauthorized,   **\\n ** constitutes consent to these terms.                         **\\n ****** WARNING ** WARNING ** WARNING ** WARNING ** WARNING ******\\n230 Anonymous access granted, restrictions apply'"
      ]
     },
     "execution_count": 55,
     "metadata": {},
     "output_type": "execute_result"
    }
   ],
   "source": [
    "from ftplib import FTP\n",
    "import zlib\n",
    "ftp = FTP('ftp.ncdc.noaa.gov')\n",
    "ftp.login()   "
   ]
  },
  {
   "cell_type": "code",
   "execution_count": 30,
   "metadata": {
    "collapsed": false
   },
   "outputs": [],
   "source": [
    "def retrieveFileName(year):\n",
    "    ftp.cwd(\"/pub/data/noaa/isd-lite/\"+str(year))\n",
    "    subfiles = ftp.nlst() \n",
    "    dirIDS = [str.split(file,'-')[0] for file in subfiles]\n",
    "    desireFiles = [subfiles[dirIDS.index(val)] for val in ids]\n",
    "    return(desireFiles)"
   ]
  },
  {
   "cell_type": "code",
   "execution_count": 26,
   "metadata": {
    "collapsed": false
   },
   "outputs": [],
   "source": [
    "def get_gz(ftp, ftp_filename, local_filename):\n",
    "\n",
    "    decomp = zlib.decompressobj(16+zlib.MAX_WBITS)\n",
    "\n",
    "    unzip = open (local_filename, 'wb')\n",
    "\n",
    "    def next_packet(data):\n",
    "        unzip.write(decomp.decompress(data))\n",
    "\n",
    "    ftp.retrbinary('RETR ' + ftp_filename, next_packet)\n",
    "\n",
    "    decompressed = decomp.flush()\n",
    "    unzip.write(decompressed)\n",
    "    unzip.close()\n"
   ]
  },
  {
   "cell_type": "code",
   "execution_count": 56,
   "metadata": {
    "collapsed": false
   },
   "outputs": [],
   "source": [
    "fList = retrieveFileName(2013)"
   ]
  },
  {
   "cell_type": "code",
   "execution_count": 57,
   "metadata": {
    "collapsed": false
   },
   "outputs": [
    {
     "data": {
      "text/plain": [
       "20"
      ]
     },
     "execution_count": 57,
     "metadata": {},
     "output_type": "execute_result"
    }
   ],
   "source": [
    "len(fList)"
   ]
  },
  {
   "cell_type": "code",
   "execution_count": 58,
   "metadata": {
    "collapsed": false
   },
   "outputs": [],
   "source": [
    "for i in range(len(fList)):\n",
    "    get_gz(ftp, fList[i], 'weatherData/'+id_data[id_data.IATA.isin(airportHubs)].IATA.iloc[i])"
   ]
  },
  {
   "cell_type": "code",
   "execution_count": null,
   "metadata": {
    "collapsed": true
   },
   "outputs": [],
   "source": []
  }
 ],
 "metadata": {
  "kernelspec": {
   "display_name": "Python 2",
   "language": "python",
   "name": "python2"
  },
  "language_info": {
   "codemirror_mode": {
    "name": "ipython",
    "version": 2
   },
   "file_extension": ".py",
   "mimetype": "text/x-python",
   "name": "python",
   "nbconvert_exporter": "python",
   "pygments_lexer": "ipython2",
   "version": "2.7.12"
  }
 },
 "nbformat": 4,
 "nbformat_minor": 2
}
